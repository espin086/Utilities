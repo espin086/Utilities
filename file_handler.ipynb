{
 "cells": [
  {
   "cell_type": "code",
   "execution_count": 7,
   "metadata": {},
   "outputs": [
    {
     "name": "stdout",
     "output_type": "stream",
     "text": [
      "Requirement already satisfied: jjutils in /Users/jjespinoza/Documents/repos/jjutils (0.0.2)\n"
     ]
    }
   ],
   "source": [
    "! pip install jjutils"
   ]
  },
  {
   "cell_type": "code",
   "execution_count": 11,
   "metadata": {},
   "outputs": [],
   "source": [
    "import importlib\n",
    "import jjutils\n",
    "# importlib.reload(jjutils)"
   ]
  },
  {
   "cell_type": "code",
   "execution_count": 12,
   "metadata": {},
   "outputs": [
    {
     "name": "stdout",
     "output_type": "stream",
     "text": [
      "Help on package jjutils:\n",
      "\n",
      "NAME\n",
      "    jjutils\n",
      "\n",
      "PACKAGE CONTENTS\n",
      "    DataFrameCleaner\n",
      "    DataFrameExplorer\n",
      "    FeatureEngineer\n",
      "    FileHandler\n",
      "    ModelTrainer\n",
      "    SQLiteCRUD\n",
      "    StreeamlitAppBuilder\n",
      "\n",
      "FILE\n",
      "    /Users/jjespinoza/Documents/repos/jjutils/jjutils/__init__.py\n",
      "\n",
      "\n"
     ]
    }
   ],
   "source": [
    "help(jjutils)"
   ]
  },
  {
   "cell_type": "code",
   "execution_count": 13,
   "metadata": {},
   "outputs": [
    {
     "ename": "AttributeError",
     "evalue": "module 'jjutils' has no attribute 'FileHandler'",
     "output_type": "error",
     "traceback": [
      "\u001b[0;31m---------------------------------------------------------------------------\u001b[0m",
      "\u001b[0;31mAttributeError\u001b[0m                            Traceback (most recent call last)",
      "\u001b[1;32m/Users/jjespinoza/Documents/repos/jjutils/examples/file_handler.ipynb Cell 4\u001b[0m line \u001b[0;36m1\n\u001b[0;32m----> <a href='vscode-notebook-cell:/Users/jjespinoza/Documents/repos/jjutils/examples/file_handler.ipynb#W3sdW50aXRsZWQ%3D?line=0'>1</a>\u001b[0m help(jjutils\u001b[39m.\u001b[39;49mFileHandler())\n",
      "\u001b[0;31mAttributeError\u001b[0m: module 'jjutils' has no attribute 'FileHandler'"
     ]
    }
   ],
   "source": [
    "help(jjutils.FileHandler())"
   ]
  },
  {
   "cell_type": "code",
   "execution_count": null,
   "metadata": {},
   "outputs": [],
   "source": []
  }
 ],
 "metadata": {
  "kernelspec": {
   "display_name": "Python 3",
   "language": "python",
   "name": "python3"
  },
  "language_info": {
   "codemirror_mode": {
    "name": "ipython",
    "version": 3
   },
   "file_extension": ".py",
   "mimetype": "text/x-python",
   "name": "python",
   "nbconvert_exporter": "python",
   "pygments_lexer": "ipython3",
   "version": "3.11.5"
  }
 },
 "nbformat": 4,
 "nbformat_minor": 2
}
